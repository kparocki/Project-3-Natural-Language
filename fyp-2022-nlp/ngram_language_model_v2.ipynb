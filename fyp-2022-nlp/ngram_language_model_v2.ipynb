{
 "cells": [
  {
   "cell_type": "code",
   "execution_count": 8,
   "metadata": {},
   "outputs": [],
   "source": [
    "import nltk\n",
    "from nltk import word_tokenize\n",
    "from nltk.lm.preprocessing import padded_everygram_pipeline\n",
    "from collections import Counter\n",
    "from nltk.lm import Laplace, KneserNeyInterpolated, WittenBellInterpolated\n",
    "import pandas as pd\n",
    "import matplotlib.pyplot as plt\n",
    "import numpy as np"
   ]
  },
  {
   "cell_type": "code",
   "execution_count": 9,
   "metadata": {},
   "outputs": [
    {
     "name": "stderr",
     "output_type": "stream",
     "text": [
      "[nltk_data] Downloading package punkt to\n",
      "[nltk_data]     C:\\Users\\Malth\\AppData\\Roaming\\nltk_data...\n",
      "[nltk_data]   Package punkt is already up-to-date!\n"
     ]
    }
   ],
   "source": [
    "import nltk\n",
    "nltk.download('punkt')\n",
    "import pandas as pd\n",
    "from nltk import FreqDist\n",
    "from nltk.util import bigrams, trigrams\n",
    "from nltk.util import ngrams\n",
    "from nltk.lm import NgramCounter\n",
    "from nltk.lm.preprocessing import padded_everygram_pipeline\n",
    "from nltk import word_tokenize, sent_tokenize\n",
    "from nltk.lm import MLE, Vocabulary\n",
    "from nltk.lm.api import LanguageModel, Smoothing\n",
    "from nltk.lm.smoothing import AbsoluteDiscounting, KneserNey, WittenBell"
   ]
  },
  {
   "cell_type": "code",
   "execution_count": 10,
   "metadata": {},
   "outputs": [],
   "source": [
    "FILE_PATH = 'data/hate/train_text.txt'\n",
    "FILE_PATH_2 = 'data/offensive/train_text.txt'"
   ]
  },
  {
   "cell_type": "code",
   "execution_count": 11,
   "metadata": {},
   "outputs": [],
   "source": [
    "def tokenize_lines_list(file_path):\n",
    "    line_list = []\n",
    "    with open(file_path, 'r', encoding = 'utf-8') as f:\n",
    "        lines = f.readlines()\n",
    "\n",
    "    for line in lines:\n",
    "        tokens = word_tokenize(line)\n",
    "        line_list.append(tokens)\n",
    "    \n",
    "    return line_list"
   ]
  },
  {
   "cell_type": "code",
   "execution_count": 12,
   "metadata": {},
   "outputs": [],
   "source": [
    "# with open(FILE_PATH, 'r', encoding = 'utf-8') as f:\n",
    "#     dataset = f.readlines()\n",
    "    \n",
    "# split = round(len(dataset)*0.8)\n",
    "# train_data = dataset[:split]\n",
    "# test_data = dataset[split:]"
   ]
  },
  {
   "cell_type": "code",
   "execution_count": 13,
   "metadata": {},
   "outputs": [],
   "source": [
    "# training_data = [list(map(str.lower, nltk.tokenize.word_tokenize(sent))) \n",
    "#                 for sent in train_data]\n",
    "\n",
    "# validation_data = [list(map(str.lower, nltk.tokenize.word_tokenize(sent))) \n",
    "#                 for sent in test_data]\n",
    "\n",
    "# validation_data = [sent for sent in validation_data if sent]"
   ]
  },
  {
   "cell_type": "code",
   "execution_count": 14,
   "metadata": {},
   "outputs": [
    {
     "name": "stdout",
     "output_type": "stream",
     "text": [
      "['@', 'user', 'nice', 'new', 'signage', '.', 'Are', 'you', 'not', 'concerned', 'by', 'Beatlemania', '-style', 'hysterical', 'crowds', 'crongregating', 'on', 'you…'] \n",
      "\n",
      "['@', 'user', 'nice', 'new', '<UNK>', '.', 'Are', 'you', 'not', 'concerned', 'by', '<UNK>', '<UNK>', 'hysterical', '<UNK>', '<UNK>', 'on', 'you…']\n"
     ]
    }
   ],
   "source": [
    "tokenized_lines = tokenize_lines_list(FILE_PATH)\n",
    "tokenized_lines_offensive = tokenize_lines_list(FILE_PATH_2)\n",
    "training_data = tokenized_lines\n",
    "validation_data = tokenized_lines_offensive\n",
    "\n",
    "all_tokens = []\n",
    "\n",
    "# for cutoff\n",
    "one_occurance_tokens = set()\n",
    "\n",
    "for line in training_data:\n",
    "    all_tokens.extend(line)\n",
    "\n",
    "freq_dict = Counter(all_tokens)\n",
    "\n",
    "for token in freq_dict.keys():\n",
    "    if freq_dict[token] <= 2:\n",
    "        one_occurance_tokens.add(token)\n",
    "\n",
    "\n",
    "print(training_data[0], '\\n')\n",
    "\n",
    "# cutoff = 1. Has an effect on perplexity by reducing the number of considered options.\n",
    "# The removed words get the same prob as new words (approximated by a constant)\n",
    "\n",
    "for i, line in enumerate(training_data):\n",
    "    for j, token in enumerate(line):\n",
    "        if token in one_occurance_tokens:\n",
    "            training_data[i][j] = '<UNK>'\n",
    "\n",
    "print(training_data[0])\n",
    "\n",
    "#let's actually train the model on the distribution after cutoff\n",
    "train, vocab = padded_everygram_pipeline(3, training_data)\n",
    "\n",
    "# print(training_data[1])\n",
    "\n",
    "# l = []\n",
    "# for i in range (1000):\n",
    "#     l.append(next(vocab))\n",
    "\n",
    "# len(l)\n",
    "# s = set()\n",
    "\n",
    "# for i in range(1):\n",
    "#     j = next(train)\n",
    "#     for _ in range(30):\n",
    "#         print(next(j))\n"
   ]
  },
  {
   "cell_type": "code",
   "execution_count": 15,
   "metadata": {},
   "outputs": [],
   "source": [
    "lm = WittenBellInterpolated(3)\n",
    "lm.fit(train, vocab)"
   ]
  },
  {
   "cell_type": "code",
   "execution_count": 16,
   "metadata": {},
   "outputs": [
    {
     "name": "stdout",
     "output_type": "stream",
     "text": [
      "0.013959540991364013\n",
      "<Vocabulary with cutoff=1 unk_label='<UNK>' and 6307 items>\n",
      "<NgramCounter with 3 ngram orders and 759129 ngrams>\n",
      "['<UNK>', 'all', 'kind', 'of', 'negativity', 'in', 'my', 'phone', '</s>', '</s>', '</s>', '</s>', '</s>', '</s>', '</s>', '</s>', '</s>', '</s>', '</s>', '</s>', '</s>', '</s>', '</s>', '</s>', '</s>', '</s>', '</s>', '</s>', '</s>', '</s>', '</s>', '</s>', '</s>', '</s>', '</s>', '</s>', '</s>', '</s>', '</s>', '</s>']\n"
     ]
    }
   ],
   "source": [
    "print(lm.score(\"a\"))\n",
    "print(lm.vocab)\n",
    "print(lm.counts)\n",
    "print(lm.generate(40, random_seed=3))"
   ]
  },
  {
   "cell_type": "code",
   "execution_count": 17,
   "metadata": {},
   "outputs": [
    {
     "name": "stdout",
     "output_type": "stream",
     "text": [
      "[('@', 'user'), ('user', 'Bono'), ('Bono', '...'), ('...', 'who'), ('who', 'cares'), ('cares', '.'), ('.', 'Soon'), ('Soon', 'people'), ('people', 'will'), ('will', 'understand'), ('understand', 'that'), ('that', 'they'), ('they', 'gain'), ('gain', 'nothing'), ('nothing', 'from'), ('from', 'following'), ('following', 'a'), ('a', 'phony'), ('phony', 'celebrity'), ('celebrity', '.'), ('.', 'Become'), ('Become', 'a'), ('a', 'Leader'), ('Leader', 'of'), ('of', 'your'), ('your', 'people'), ('people', 'instead'), ('instead', 'or'), ('or', 'help'), ('help', 'and'), ('and', 'support'), ('support', 'your'), ('your', 'fellow'), ('fellow', 'countrymen'), ('countrymen', '.')]\n",
      "[('@', 'user', 'Bono'), ('user', 'Bono', '...'), ('Bono', '...', 'who'), ('...', 'who', 'cares'), ('who', 'cares', '.'), ('cares', '.', 'Soon'), ('.', 'Soon', 'people'), ('Soon', 'people', 'will'), ('people', 'will', 'understand'), ('will', 'understand', 'that'), ('understand', 'that', 'they'), ('that', 'they', 'gain'), ('they', 'gain', 'nothing'), ('gain', 'nothing', 'from'), ('nothing', 'from', 'following'), ('from', 'following', 'a'), ('following', 'a', 'phony'), ('a', 'phony', 'celebrity'), ('phony', 'celebrity', '.'), ('celebrity', '.', 'Become'), ('.', 'Become', 'a'), ('Become', 'a', 'Leader'), ('a', 'Leader', 'of'), ('Leader', 'of', 'your'), ('of', 'your', 'people'), ('your', 'people', 'instead'), ('people', 'instead', 'or'), ('instead', 'or', 'help'), ('or', 'help', 'and'), ('help', 'and', 'support'), ('and', 'support', 'your'), ('support', 'your', 'fellow'), ('your', 'fellow', 'countrymen'), ('fellow', 'countrymen', '.')]\n"
     ]
    }
   ],
   "source": [
    "validation_data_bigrams = []\n",
    "validation_data_trigrams = []\n",
    "\n",
    "for i in validation_data:\n",
    "    validation_data_bigrams.append(list(bigrams(i)))\n",
    "    validation_data_trigrams.append(list(trigrams(i)))\n",
    "\n",
    "\n",
    "print(validation_data_bigrams[0])\n",
    "print(validation_data_trigrams[0])"
   ]
  },
  {
   "cell_type": "code",
   "execution_count": 18,
   "metadata": {},
   "outputs": [
    {
     "data": {
      "text/plain": [
       "263.6872211081506"
      ]
     },
     "execution_count": 18,
     "metadata": {},
     "output_type": "execute_result"
    }
   ],
   "source": [
    "#bigram perplexity\n",
    "for line in validation_data_bigrams: \n",
    "    if len(line) == 0:\n",
    "        validation_data_bigrams.remove(line)\n",
    "\n",
    "lm.perplexity(validation_data_bigrams[0])"
   ]
  },
  {
   "cell_type": "code",
   "execution_count": 19,
   "metadata": {},
   "outputs": [
    {
     "data": {
      "text/plain": [
       "444.6542185531703"
      ]
     },
     "execution_count": 19,
     "metadata": {},
     "output_type": "execute_result"
    }
   ],
   "source": [
    "#trigram perplexity\n",
    "for line in validation_data_trigrams: \n",
    "    if len(line) == 0:\n",
    "        validation_data_trigrams.remove(line)\n",
    "\n",
    "lm.perplexity(validation_data_trigrams[0])"
   ]
  },
  {
   "cell_type": "code",
   "execution_count": 20,
   "metadata": {},
   "outputs": [],
   "source": [
    "list_of_perplexity = []\n",
    "\n",
    "for line in validation_data_trigrams: \n",
    "    list_of_perplexity.append(lm.perplexity(line))"
   ]
  },
  {
   "cell_type": "code",
   "execution_count": 21,
   "metadata": {},
   "outputs": [
    {
     "data": {
      "text/plain": [
       "(2781.9411406659824, 208.1023568762775)"
      ]
     },
     "execution_count": 21,
     "metadata": {},
     "output_type": "execute_result"
    }
   ],
   "source": [
    "mean_perplexity = sum(list_of_perplexity) / len(list_of_perplexity)\n",
    "median_perplexity = sorted(list_of_perplexity)[len(list_of_perplexity)//2]\n",
    "mean_perplexity, median_perplexity"
   ]
  },
  {
   "cell_type": "code",
   "execution_count": 22,
   "metadata": {},
   "outputs": [
    {
     "data": {
      "text/html": [
       "<div>\n",
       "<style scoped>\n",
       "    .dataframe tbody tr th:only-of-type {\n",
       "        vertical-align: middle;\n",
       "    }\n",
       "\n",
       "    .dataframe tbody tr th {\n",
       "        vertical-align: top;\n",
       "    }\n",
       "\n",
       "    .dataframe thead th {\n",
       "        text-align: right;\n",
       "    }\n",
       "</style>\n",
       "<table border=\"1\" class=\"dataframe\">\n",
       "  <thead>\n",
       "    <tr style=\"text-align: right;\">\n",
       "      <th></th>\n",
       "      <th>bigram grouped sentences</th>\n",
       "      <th>perplexity</th>\n",
       "    </tr>\n",
       "  </thead>\n",
       "  <tbody>\n",
       "    <tr>\n",
       "      <th>0</th>\n",
       "      <td>[(@, user), (user, Bono), (Bono, ...), (..., w...</td>\n",
       "      <td>444.654219</td>\n",
       "    </tr>\n",
       "    <tr>\n",
       "      <th>1</th>\n",
       "      <td>[(@, user), (user, Eight), (Eight, years), (ye...</td>\n",
       "      <td>441.577809</td>\n",
       "    </tr>\n",
       "    <tr>\n",
       "      <th>2</th>\n",
       "      <td>[(@, user), (user, Get), (Get, him), (him, som...</td>\n",
       "      <td>536.712172</td>\n",
       "    </tr>\n",
       "    <tr>\n",
       "      <th>3</th>\n",
       "      <td>[(@, user), (user, @), (@, user), (user, She),...</td>\n",
       "      <td>45.551715</td>\n",
       "    </tr>\n",
       "    <tr>\n",
       "      <th>4</th>\n",
       "      <td>[(@, user), (user, She), (She, has), (has, bec...</td>\n",
       "      <td>389.909470</td>\n",
       "    </tr>\n",
       "    <tr>\n",
       "      <th>...</th>\n",
       "      <td>...</td>\n",
       "      <td>...</td>\n",
       "    </tr>\n",
       "    <tr>\n",
       "      <th>11911</th>\n",
       "      <td>[(@, user), (user, I), (I, wonder), (wonder, i...</td>\n",
       "      <td>233.717542</td>\n",
       "    </tr>\n",
       "    <tr>\n",
       "      <th>11912</th>\n",
       "      <td>[(@, user), (user, Do), (Do, we), (we, dare), ...</td>\n",
       "      <td>537.141481</td>\n",
       "    </tr>\n",
       "    <tr>\n",
       "      <th>11913</th>\n",
       "      <td>[(@, user), (user, No), (No, idea), (idea, who...</td>\n",
       "      <td>721.260618</td>\n",
       "    </tr>\n",
       "    <tr>\n",
       "      <th>11914</th>\n",
       "      <td>[(#, Professor), (Professor, Who), (Who, Shot)...</td>\n",
       "      <td>622.734027</td>\n",
       "    </tr>\n",
       "    <tr>\n",
       "      <th>11915</th>\n",
       "      <td>[(@, user), (user, @), (@, user), (user, @), (...</td>\n",
       "      <td>422.951664</td>\n",
       "    </tr>\n",
       "  </tbody>\n",
       "</table>\n",
       "<p>11916 rows × 2 columns</p>\n",
       "</div>"
      ],
      "text/plain": [
       "                                bigram grouped sentences  perplexity\n",
       "0      [(@, user), (user, Bono), (Bono, ...), (..., w...  444.654219\n",
       "1      [(@, user), (user, Eight), (Eight, years), (ye...  441.577809\n",
       "2      [(@, user), (user, Get), (Get, him), (him, som...  536.712172\n",
       "3      [(@, user), (user, @), (@, user), (user, She),...   45.551715\n",
       "4      [(@, user), (user, She), (She, has), (has, bec...  389.909470\n",
       "...                                                  ...         ...\n",
       "11911  [(@, user), (user, I), (I, wonder), (wonder, i...  233.717542\n",
       "11912  [(@, user), (user, Do), (Do, we), (we, dare), ...  537.141481\n",
       "11913  [(@, user), (user, No), (No, idea), (idea, who...  721.260618\n",
       "11914  [(#, Professor), (Professor, Who), (Who, Shot)...  622.734027\n",
       "11915  [(@, user), (user, @), (@, user), (user, @), (...  422.951664\n",
       "\n",
       "[11916 rows x 2 columns]"
      ]
     },
     "execution_count": 22,
     "metadata": {},
     "output_type": "execute_result"
    }
   ],
   "source": [
    "pd.DataFrame(list(zip(validation_data_bigrams, list_of_perplexity)),columns = ['bigram grouped sentences','perplexity'])"
   ]
  },
  {
   "cell_type": "code",
   "execution_count": 23,
   "metadata": {},
   "outputs": [
    {
     "data": {
      "image/png": "[encoded data removed]",
      "text/plain": [
       "<Figure size 432x288 with 1 Axes>"
      ]
     },
     "metadata": {
      "needs_background": "light"
     },
     "output_type": "display_data"
    }
   ],
   "source": [
    "# Create histogram over perplexity\n",
    "\n",
    "plt.hist(list_of_perplexity, bins = 50, range =(0,2000))\n",
    "plt.xlabel('Perplexity')\n",
    "plt.ylabel('Frequency')\n",
    "plt.title('Perplexity Histogram')\n",
    "plt.show()\n"
   ]
  },
  {
   "cell_type": "code",
   "execution_count": 24,
   "metadata": {},
   "outputs": [
    {
     "data": {
      "text/plain": [
       "(97.0490484022697, 4377)"
      ]
     },
     "execution_count": 24,
     "metadata": {},
     "output_type": "execute_result"
    }
   ],
   "source": [
    "#we will take the first quantile as the threshold for self-training\tsentences, this will add around 3000 sentences to \n",
    "#our training set, which is 1/3 of the original training set. Also, looking at the hist, it seems like \n",
    "#a good idea\n",
    "\n",
    "# Calculate the first quantile\n",
    "quantile = np.percentile(list_of_perplexity, 25)\n",
    "\n",
    "\n",
    "# Get the sentences index that have a perplexity below the quantile\n",
    "quantile_sentences = [index for index, sent in enumerate(validation_data_bigrams) if lm.perplexity(sent) < quantile]\n",
    "quantile, len(quantile_sentences)"
   ]
  },
  {
   "cell_type": "code",
   "execution_count": 26,
   "metadata": {},
   "outputs": [],
   "source": [
    "# # Save the sentences that have a perplexity below the quantile to a file\n",
    "# with open(FILE_PATH_2, 'r', encoding = 'utf-8') as f:\n",
    "#     lines = f.readlines()\n",
    "\n",
    "# # Save lines to a new file if they have a perplexity below the quantile\n",
    "# with open('data/hate/offensive_sentences_text.txt', 'w') as f:\n",
    "#     for index in quantile_sentences:\n",
    "#         f.write(lines[index])\n",
    "\n"
   ]
  }
 ],
 "metadata": {
  "interpreter": {
   "hash": "f9afbf2a9e3cca782218678ea53de780cdab6e415deb2cfebfa74b36b58b3a78"
  },
  "kernelspec": {
   "display_name": "Python 3.8.12 ('base')",
   "language": "python",
   "name": "python3"
  },
  "language_info": {
   "codemirror_mode": {
    "name": "ipython",
    "version": 3
   },
   "file_extension": ".py",
   "mimetype": "text/x-python",
   "name": "python",
   "nbconvert_exporter": "python",
   "pygments_lexer": "ipython3",
   "version": "3.8.12"
  },
  "orig_nbformat": 4
 },
 "nbformat": 4,
 "nbformat_minor": 2
}
