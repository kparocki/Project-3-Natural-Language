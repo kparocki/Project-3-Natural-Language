{
 "cells": [
  {
   "cell_type": "code",
   "execution_count": 1,
   "metadata": {},
   "outputs": [],
   "source": [
    "from sklearn.feature_extraction.text import CountVectorizer\n",
    "from sklearn.linear_model import SGDClassifier\n",
    "from sklearn.metrics import classification_report\n",
    "import numpy as np\n",
    "import pandas as pd\n",
    "import pickle"
   ]
  },
  {
   "cell_type": "code",
   "execution_count": 2,
   "metadata": {},
   "outputs": [
    {
     "data": {
      "text/html": [
       "<div>\n",
       "<style scoped>\n",
       "    .dataframe tbody tr th:only-of-type {\n",
       "        vertical-align: middle;\n",
       "    }\n",
       "\n",
       "    .dataframe tbody tr th {\n",
       "        vertical-align: top;\n",
       "    }\n",
       "\n",
       "    .dataframe thead th {\n",
       "        text-align: right;\n",
       "    }\n",
       "</style>\n",
       "<table border=\"1\" class=\"dataframe\">\n",
       "  <thead>\n",
       "    <tr style=\"text-align: right;\">\n",
       "      <th></th>\n",
       "      <th>text</th>\n",
       "      <th>label</th>\n",
       "    </tr>\n",
       "  </thead>\n",
       "  <tbody>\n",
       "    <tr>\n",
       "      <th>0</th>\n",
       "      <td>@user , you are correct that Reid certainly is...</td>\n",
       "      <td>0</td>\n",
       "    </tr>\n",
       "    <tr>\n",
       "      <th>1</th>\n",
       "      <td>Whoever just unfollowed me you a bitch</td>\n",
       "      <td>1</td>\n",
       "    </tr>\n",
       "    <tr>\n",
       "      <th>2</th>\n",
       "      <td>@user @user Those People Invaded Us!!! They DO...</td>\n",
       "      <td>1</td>\n",
       "    </tr>\n",
       "    <tr>\n",
       "      <th>3</th>\n",
       "      <td>stop JUDGING bitches by there cover, jus cuz s...</td>\n",
       "      <td>1</td>\n",
       "    </tr>\n",
       "    <tr>\n",
       "      <th>4</th>\n",
       "      <td>how about i knock heads off and send them gift...</td>\n",
       "      <td>1</td>\n",
       "    </tr>\n",
       "    <tr>\n",
       "      <th>...</th>\n",
       "      <td>...</td>\n",
       "      <td>...</td>\n",
       "    </tr>\n",
       "    <tr>\n",
       "      <th>995</th>\n",
       "      <td>Bitch shut the fuck with your muggle ass...ava...</td>\n",
       "      <td>1</td>\n",
       "    </tr>\n",
       "    <tr>\n",
       "      <th>996</th>\n",
       "      <td>My cousins and dude made me slow down on being...</td>\n",
       "      <td>0</td>\n",
       "    </tr>\n",
       "    <tr>\n",
       "      <th>997</th>\n",
       "      <td>Shakespeare was really wildin' back in the day...</td>\n",
       "      <td>0</td>\n",
       "    </tr>\n",
       "    <tr>\n",
       "      <th>998</th>\n",
       "      <td>@user Are those not grapes bitch?</td>\n",
       "      <td>0</td>\n",
       "    </tr>\n",
       "    <tr>\n",
       "      <th>999</th>\n",
       "      <td>I'm a whole bitch lol aj know all it take is a...</td>\n",
       "      <td>0</td>\n",
       "    </tr>\n",
       "  </tbody>\n",
       "</table>\n",
       "<p>1000 rows × 2 columns</p>\n",
       "</div>"
      ],
      "text/plain": [
       "                                                  text  label\n",
       "0    @user , you are correct that Reid certainly is...      0\n",
       "1              Whoever just unfollowed me you a bitch       1\n",
       "2    @user @user Those People Invaded Us!!! They DO...      1\n",
       "3    stop JUDGING bitches by there cover, jus cuz s...      1\n",
       "4    how about i knock heads off and send them gift...      1\n",
       "..                                                 ...    ...\n",
       "995  Bitch shut the fuck with your muggle ass...ava...      1\n",
       "996  My cousins and dude made me slow down on being...      0\n",
       "997  Shakespeare was really wildin' back in the day...      0\n",
       "998                 @user Are those not grapes bitch?       0\n",
       "999  I'm a whole bitch lol aj know all it take is a...      0\n",
       "\n",
       "[1000 rows x 2 columns]"
      ]
     },
     "execution_count": 2,
     "metadata": {},
     "output_type": "execute_result"
    }
   ],
   "source": [
    "# Load in the data:\n",
    "def load_data(text_filename, label_filename, nrows=None):\n",
    "    # Import data\\hate\\test_text.txt txt file into dataframe\n",
    "    df_text = pd.read_csv(text_filename, sep='\\t', header=None, nrows=nrows)\n",
    "    # Import corresponding labels into dataframe\n",
    "    df_labels = pd.read_csv(label_filename, sep='\\t', header=None, nrows=nrows)\n",
    "    # Combine the two datasets into one with header\n",
    "    df = pd.concat([df_text, df_labels], axis=1)\n",
    "    # Rename columns\n",
    "    df.columns = ['text', 'label']\n",
    "    return df\n",
    "\n",
    "df_train = load_data('data/hate/train_text.txt', 'data/hate/train_labels.txt', nrows=5000)\n",
    "df_test = load_data('data/hate/test_text.txt', 'data/hate/test_labels.txt', nrows=1000) # For some reason the test data can't load in all 2970 lines correctly\n",
    "df_test"
   ]
  },
  {
   "cell_type": "markdown",
   "metadata": {},
   "source": [
    "## Vectorizer:"
   ]
  },
  {
   "cell_type": "code",
   "execution_count": 3,
   "metadata": {},
   "outputs": [
    {
     "data": {
      "text/plain": [
       "<5000x11862 sparse matrix of type '<class 'numpy.int64'>'\n",
       "\twith 54540 stored elements in Compressed Sparse Row format>"
      ]
     },
     "execution_count": 3,
     "metadata": {},
     "output_type": "execute_result"
    }
   ],
   "source": [
    "vectorizer = CountVectorizer(stop_words='english')\n",
    "X = vectorizer.fit_transform(df_train['text'])\n",
    "X"
   ]
  },
  {
   "cell_type": "markdown",
   "metadata": {},
   "source": [
    "## Model:"
   ]
  },
  {
   "cell_type": "code",
   "execution_count": 4,
   "metadata": {},
   "outputs": [
    {
     "data": {
      "text/plain": [
       "SGDClassifier(loss='log')"
      ]
     },
     "execution_count": 4,
     "metadata": {},
     "output_type": "execute_result"
    }
   ],
   "source": [
    "model = SGDClassifier(loss='log')\n",
    "model.fit(X, df_train['label'])"
   ]
  },
  {
   "cell_type": "markdown",
   "metadata": {},
   "source": [
    "## Evaluate:"
   ]
  },
  {
   "cell_type": "code",
   "execution_count": 8,
   "metadata": {},
   "outputs": [],
   "source": [
    "pickle.dump( vectorizer, open( \"vec.p\", \"wb\" ) )\n",
    "pickle.dump( model, open( \"model.p\", \"wb\" ) )\n"
   ]
  },
  {
   "cell_type": "code",
   "execution_count": 11,
   "metadata": {},
   "outputs": [
    {
     "name": "stdout",
     "output_type": "stream",
     "text": [
      "              precision    recall  f1-score   support\n",
      "\n",
      "     not hat       0.63      0.53      0.58       579\n",
      "        hate       0.47      0.57      0.51       421\n",
      "\n",
      "    accuracy                           0.55      1000\n",
      "   macro avg       0.55      0.55      0.54      1000\n",
      "weighted avg       0.56      0.55      0.55      1000\n",
      "\n"
     ]
    }
   ],
   "source": [
    "# Measure the performance\n",
    "X_test = vectorizer.transform(df_test['text'])\n",
    "y_pred = model.predict(X_test)\n",
    "target_names = ['not hat', 'hate']\n",
    "print(classification_report(df_test['label'], y_pred, target_names=target_names))"
   ]
  },
  {
   "cell_type": "code",
   "execution_count": null,
   "metadata": {},
   "outputs": [],
   "source": []
  }
 ],
 "metadata": {
  "interpreter": {
   "hash": "bbf4deb2b054f64ca0987de45fc369657ba4fa3974fd0df2c8a0e03e6166190b"
  },
  "kernelspec": {
   "display_name": "Python 3.8.12 ('base')",
   "language": "python",
   "name": "python3"
  },
  "language_info": {
   "codemirror_mode": {
    "name": "ipython",
    "version": 3
   },
   "file_extension": ".py",
   "mimetype": "text/x-python",
   "name": "python",
   "nbconvert_exporter": "python",
   "pygments_lexer": "ipython3",
   "version": "3.8.12"
  },
  "orig_nbformat": 4
 },
 "nbformat": 4,
 "nbformat_minor": 2
}
