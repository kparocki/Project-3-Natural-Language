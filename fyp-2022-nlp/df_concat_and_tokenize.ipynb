{
 "cells": [
  {
   "cell_type": "code",
   "execution_count": 19,
   "metadata": {},
   "outputs": [
    {
     "name": "stderr",
     "output_type": "stream",
     "text": [
      "[nltk_data] Downloading package punkt to\n",
      "[nltk_data]     C:\\Users\\Malth\\AppData\\Roaming\\nltk_data...\n",
      "[nltk_data]   Package punkt is already up-to-date!\n"
     ]
    }
   ],
   "source": [
    "import nltk\n",
    "nltk.download('punkt')\n",
    "import pandas as pd\n",
    "from nltk.util import bigrams\n",
    "from nltk.util import ngrams\n",
    "from nltk.lm import NgramCounter"
   ]
  },
  {
   "cell_type": "code",
   "execution_count": 6,
   "metadata": {},
   "outputs": [
    {
     "data": {
      "text/html": [
       "<div>\n",
       "<style scoped>\n",
       "    .dataframe tbody tr th:only-of-type {\n",
       "        vertical-align: middle;\n",
       "    }\n",
       "\n",
       "    .dataframe tbody tr th {\n",
       "        vertical-align: top;\n",
       "    }\n",
       "\n",
       "    .dataframe thead th {\n",
       "        text-align: right;\n",
       "    }\n",
       "</style>\n",
       "<table border=\"1\" class=\"dataframe\">\n",
       "  <thead>\n",
       "    <tr style=\"text-align: right;\">\n",
       "      <th></th>\n",
       "      <th>text</th>\n",
       "      <th>label</th>\n",
       "    </tr>\n",
       "  </thead>\n",
       "  <tbody>\n",
       "    <tr>\n",
       "      <th>0</th>\n",
       "      <td>@user nice new signage. Are you not concerned ...</td>\n",
       "      <td>0</td>\n",
       "    </tr>\n",
       "    <tr>\n",
       "      <th>1</th>\n",
       "      <td>A woman who you fucked multiple times saying y...</td>\n",
       "      <td>1</td>\n",
       "    </tr>\n",
       "    <tr>\n",
       "      <th>2</th>\n",
       "      <td>@user @user real talk do you have eyes or were...</td>\n",
       "      <td>1</td>\n",
       "    </tr>\n",
       "    <tr>\n",
       "      <th>3</th>\n",
       "      <td>your girlfriend lookin at me like a groupie in...</td>\n",
       "      <td>1</td>\n",
       "    </tr>\n",
       "    <tr>\n",
       "      <th>4</th>\n",
       "      <td>Hysterical woman like @user</td>\n",
       "      <td>0</td>\n",
       "    </tr>\n",
       "  </tbody>\n",
       "</table>\n",
       "</div>"
      ],
      "text/plain": [
       "                                                text  label\n",
       "0  @user nice new signage. Are you not concerned ...      0\n",
       "1  A woman who you fucked multiple times saying y...      1\n",
       "2  @user @user real talk do you have eyes or were...      1\n",
       "3  your girlfriend lookin at me like a groupie in...      1\n",
       "4                       Hysterical woman like @user       0"
      ]
     },
     "execution_count": 6,
     "metadata": {},
     "output_type": "execute_result"
    }
   ],
   "source": [
    "# Import data\\hate\\test_text.txt txt file into dataframe\n",
    "df_train_text = pd.read_csv('data/hate/train_text.txt', sep='\\t', header=None, nrows=5000)\n",
    "# Import corresponding labels into dataframe\n",
    "df_train_labels = pd.read_csv('data/hate/train_labels.txt', sep='\\t', header=None, nrows=5000)\n",
    "# Combine the two datasets into one with header\n",
    "df_train = pd.concat([df_train_text, df_train_labels], axis=1)\n",
    "# Rename columns\n",
    "df_train.columns = ['text', 'label']\n",
    "df_train.head()"
   ]
  },
  {
   "cell_type": "code",
   "execution_count": 9,
   "metadata": {},
   "outputs": [
    {
     "data": {
      "text/html": [
       "<div>\n",
       "<style scoped>\n",
       "    .dataframe tbody tr th:only-of-type {\n",
       "        vertical-align: middle;\n",
       "    }\n",
       "\n",
       "    .dataframe tbody tr th {\n",
       "        vertical-align: top;\n",
       "    }\n",
       "\n",
       "    .dataframe thead th {\n",
       "        text-align: right;\n",
       "    }\n",
       "</style>\n",
       "<table border=\"1\" class=\"dataframe\">\n",
       "  <thead>\n",
       "    <tr style=\"text-align: right;\">\n",
       "      <th></th>\n",
       "      <th>text</th>\n",
       "      <th>label</th>\n",
       "    </tr>\n",
       "  </thead>\n",
       "  <tbody>\n",
       "    <tr>\n",
       "      <th>0</th>\n",
       "      <td>[@, user, nice, new, signage, ., Are, you, not...</td>\n",
       "      <td>0</td>\n",
       "    </tr>\n",
       "    <tr>\n",
       "      <th>1</th>\n",
       "      <td>[A, woman, who, you, fucked, multiple, times, ...</td>\n",
       "      <td>1</td>\n",
       "    </tr>\n",
       "    <tr>\n",
       "      <th>2</th>\n",
       "      <td>[@, user, @, user, real, talk, do, you, have, ...</td>\n",
       "      <td>1</td>\n",
       "    </tr>\n",
       "    <tr>\n",
       "      <th>3</th>\n",
       "      <td>[your, girlfriend, lookin, at, me, like, a, gr...</td>\n",
       "      <td>1</td>\n",
       "    </tr>\n",
       "    <tr>\n",
       "      <th>4</th>\n",
       "      <td>[Hysterical, woman, like, @, user]</td>\n",
       "      <td>0</td>\n",
       "    </tr>\n",
       "  </tbody>\n",
       "</table>\n",
       "</div>"
      ],
      "text/plain": [
       "                                                text  label\n",
       "0  [@, user, nice, new, signage, ., Are, you, not...      0\n",
       "1  [A, woman, who, you, fucked, multiple, times, ...      1\n",
       "2  [@, user, @, user, real, talk, do, you, have, ...      1\n",
       "3  [your, girlfriend, lookin, at, me, like, a, gr...      1\n",
       "4                 [Hysterical, woman, like, @, user]      0"
      ]
     },
     "execution_count": 9,
     "metadata": {},
     "output_type": "execute_result"
    }
   ],
   "source": [
    "# Tokenize the dataset\n",
    "df_train['text'] = df_train['text'].apply(nltk.word_tokenize)\n",
    "df_train.head()"
   ]
  },
  {
   "cell_type": "markdown",
   "metadata": {},
   "source": [
    "Playing around with functions from https://www.nltk.org/api/nltk.lm.html#module-nltk.lm"
   ]
  },
  {
   "cell_type": "code",
   "execution_count": 11,
   "metadata": {},
   "outputs": [
    {
     "data": {
      "text/plain": [
       "[('@', 'user'),\n",
       " ('user', 'nice'),\n",
       " ('nice', 'new'),\n",
       " ('new', 'signage'),\n",
       " ('signage', '.'),\n",
       " ('.', 'Are'),\n",
       " ('Are', 'you'),\n",
       " ('you', 'not'),\n",
       " ('not', 'concerned'),\n",
       " ('concerned', 'by'),\n",
       " ('by', 'Beatlemania'),\n",
       " ('Beatlemania', '-style'),\n",
       " ('-style', 'hysterical'),\n",
       " ('hysterical', 'crowds'),\n",
       " ('crowds', 'crongregating'),\n",
       " ('crongregating', 'on'),\n",
       " ('on', 'you…')]"
      ]
     },
     "execution_count": 11,
     "metadata": {},
     "output_type": "execute_result"
    }
   ],
   "source": [
    "list(bigrams(df_train['text'][0]))"
   ]
  },
  {
   "cell_type": "code",
   "execution_count": 20,
   "metadata": {},
   "outputs": [
    {
     "data": {
      "text/plain": [
       "<nltk.lm.counter.NgramCounter at 0x1d0562cc340>"
      ]
     },
     "execution_count": 20,
     "metadata": {},
     "output_type": "execute_result"
    }
   ],
   "source": [
    "NgramCounter([ngrams(sent, 3) for sent in df_train['text'][0:3]])"
   ]
  }
 ],
 "metadata": {
  "interpreter": {
   "hash": "bbf4deb2b054f64ca0987de45fc369657ba4fa3974fd0df2c8a0e03e6166190b"
  },
  "kernelspec": {
   "display_name": "Python 3.8.12 ('base')",
   "language": "python",
   "name": "python3"
  },
  "language_info": {
   "codemirror_mode": {
    "name": "ipython",
    "version": 3
   },
   "file_extension": ".py",
   "mimetype": "text/x-python",
   "name": "python",
   "nbconvert_exporter": "python",
   "pygments_lexer": "ipython3",
   "version": "3.8.12"
  },
  "orig_nbformat": 4
 },
 "nbformat": 4,
 "nbformat_minor": 2
}
